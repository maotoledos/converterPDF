{
 "cells": [
  {
   "cell_type": "markdown",
   "metadata": {},
   "source": [
    "## Convert from PDFtoCSV\n",
    "### The mini project is to split pdf in different pages, converting pdf to csv when files are too big to convert directly "
   ]
  },
  {
   "cell_type": "code",
   "execution_count": 10,
   "metadata": {},
   "outputs": [],
   "source": [
    "# Convierte de pdf a txt, \n",
    "# Validar ya que no se esté duplicando la misma página última. \n",
    "# probar con un pdf mas pequeño\n",
    "\n",
    "import PyPDF2\n",
    "\n",
    "path = 'C:/Users/mauri/2.pdf'\n",
    "\n",
    "pdffileobj=open(path,'rb')\n",
    "pdfreader=PyPDF2.PdfFileReader(pdffileobj)\n",
    "x=pdfreader.numPages - 1\n",
    "page_content=\"\"                # define variable for using in loop.\n",
    "for page_number in range(x):\n",
    "    pageobj=pdfreader.getPage(page_number)\n",
    "    text+=pageobj.extractText()\n",
    "\n",
    "file1=open(r\"C:\\Users\\mauri\\\\2.txt\",\"a\")\n",
    "file1.writelines(text)\n",
    "file1.close()"
   ]
  },
  {
   "cell_type": "code",
   "execution_count": 2,
   "metadata": {},
   "outputs": [],
   "source": [
    "# Crea un archivo pdf por cada hoja del pdf que se ingrese\n",
    "\n",
    "from PyPDF2 import PdfFileWriter, PdfFileReader\n",
    "\n",
    "inputpdf = PdfFileReader(open(\"C:/Users/mauri/1.pdf\", \"rb\"))\n",
    "\n",
    "for i in range(inputpdf.numPages):\n",
    "    output = PdfFileWriter()\n",
    "    output.addPage(inputpdf.getPage(i))\n",
    "    with open(\"document-page%s.pdf\" % i, \"wb\") as outputStream:\n",
    "        output.write(outputStream)\n"
   ]
  },
  {
   "cell_type": "code",
   "execution_count": 4,
   "metadata": {},
   "outputs": [],
   "source": [
    "# Crea dos pdf cortados aunque el primero aparece todo y en el segundo aparece solo la última página\n",
    "\n",
    "from PyPDF2 import PdfFileWriter, PdfFileReader\n",
    "\n",
    "filename = 'C:/Users/mauri/2.pdf'\n",
    "\n",
    "def split_pdf_to_two(filename,page_number):\n",
    "    pdf_reader = PdfFileReader(open(filename, \"rb\"))\n",
    "    try:\n",
    "        assert page_number < pdf_reader.numPages\n",
    "        pdf_writer1 = PdfFileWriter()\n",
    "        pdf_writer2 = PdfFileWriter()\n",
    "\n",
    "        for page in range(page_number):\n",
    "            pdf_writer1.addPage(pdf_reader.getPage(page))\n",
    "\n",
    "        for page in range(page_number,pdf_reader.getNumPages()):\n",
    "            pdf_writer2.addPage(pdf_reader.getPage(page))\n",
    "\n",
    "        with open(\"part1.pdf\", 'wb') as file1:\n",
    "            pdf_writer1.write(file1)\n",
    "\n",
    "        with open(\"part2.pdf\", 'wb') as file2:\n",
    "            pdf_writer2.write(file2)\n",
    "\n",
    "    except AssertionError as e:\n",
    "        print(\"OJO: El pdf tiene menos páginas de las que se desean cortar!\")\n"
   ]
  },
  {
   "cell_type": "code",
   "execution_count": 6,
   "metadata": {},
   "outputs": [],
   "source": [
    "# Ejecuta la función para dividir en dos el pdf\n",
    "split_pdf_to_two(filename,NUMERO)"
   ]
  },
  {
   "cell_type": "code",
   "execution_count": 5,
   "metadata": {},
   "outputs": [
    {
     "data": {
      "text/plain": [
       "2874"
      ]
     },
     "execution_count": 5,
     "metadata": {},
     "output_type": "execute_result"
    }
   ],
   "source": [
    "# inputpdf = PdfFileReader(open(\"C:/Users/mauri/Documents/Mauricio/2019agraviados.pdf\", \"rb\"))\n",
    "# inputpdf.numPages"
   ]
  },
  {
   "cell_type": "code",
   "execution_count": null,
   "metadata": {},
   "outputs": [],
   "source": []
  },
  {
   "cell_type": "code",
   "execution_count": null,
   "metadata": {},
   "outputs": [],
   "source": []
  }
 ],
 "metadata": {
  "kernelspec": {
   "display_name": "Python 3",
   "language": "python",
   "name": "python3"
  },
  "language_info": {
   "codemirror_mode": {
    "name": "ipython",
    "version": 3
   },
   "file_extension": ".py",
   "mimetype": "text/x-python",
   "name": "python",
   "nbconvert_exporter": "python",
   "pygments_lexer": "ipython3",
   "version": "3.8.3"
  }
 },
 "nbformat": 4,
 "nbformat_minor": 4
}
